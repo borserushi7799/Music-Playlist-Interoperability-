{
 "cells": [
  {
   "cell_type": "code",
   "execution_count": 10,
   "id": "d670296f",
   "metadata": {},
   "outputs": [],
   "source": [
    "#ytmusicapi oauth\n",
    "from ytmusicapi import YTMusic\n",
    "import json"
   ]
  },
  {
   "cell_type": "code",
   "execution_count": 3,
   "id": "507f30e3",
   "metadata": {},
   "outputs": [],
   "source": [
    "ytmusic = YTMusic(\"oauth.json\")"
   ]
  },
  {
   "cell_type": "code",
   "execution_count": 4,
   "id": "775998dc",
   "metadata": {},
   "outputs": [],
   "source": [
    "playlistId = ytmusic.create_playlist('testCode', 'test Code description')"
   ]
  },
  {
   "cell_type": "code",
   "execution_count": 5,
   "id": "07de432b",
   "metadata": {},
   "outputs": [
    {
     "name": "stdout",
     "output_type": "stream",
     "text": [
      "Added\n"
     ]
    }
   ],
   "source": [
    "search_results = ytmusic.search(\"Badass Leo\")\n",
    "#rint(search_results)\n",
    "for search_result in search_results:\n",
    "    if('videoId' in search_result):\n",
    "        ytmusic.add_playlist_items(playlistId, [search_result['videoId']])\n",
    "        print(\"Added\")\n",
    "        break\n",
    "    \n"
   ]
  },
  {
   "cell_type": "code",
   "execution_count": 36,
   "id": "1134ad20",
   "metadata": {},
   "outputs": [
    {
     "name": "stdout",
     "output_type": "stream",
     "text": [
      "50\n",
      "O Maahi\n",
      "SATRANGA\n",
      "Tere Sang Ishq Hua\n",
      "Chaleya\n",
      "Lutt Putt Gaya (From \"Dunki\")\n",
      "Dil Jhoom - Vishal Mishra (From \"Gadar 2\")\n",
      "Phir Aur Kya Chahiye\n",
      "Tum Kya Mile\n",
      "Kesariya (From “Brahmastra”)\n",
      "What Jhumka?\n",
      "Leke Prabhu Ka Naam\n",
      "Kabira\n",
      "O Bedardeya (Full Video) Tu Jhoothi Main Makkaar | Ranbir, Shraddha | Pritam,Arijit Singh, Amitabh B\n",
      "Apna Bana Le\n",
      "Zaalima\n",
      "Tere Pyaar Mein\n",
      "Jhoome Jo Pathaan\n",
      "Hawayein\n",
      "Suno- Na Sangemarmar (From \"Youngistaan\")\n",
      "Ilahi\n",
      "Pyaar Hota Kayi Baar Hai (Jhankar Beat)[Remix By Moodyboy]\n",
      "Shayad\n",
      "Ve Kamleya\n",
      "Citylights | Arijit Singh | Rajkummar Rao, Patralekha | Jeet ...\n",
      "Kalank (Duet)\n",
      "Humpty Sharma Ki Dulhania|Varun, Alia|Arijit Singh, Shreya Gh...\n",
      "Bekhayali (From \"Kabir Singh\")\n",
      "Soch Na Sake\n",
      "Rait Zara Si\n",
      "Hamari Adhuri Kahani (Title Track) [From \"Hamari Adhuri Kahani\"]\n",
      "Ranbir, Anushka, Aishwarya|Arijit|Pritam\n",
      "Tera Yaar Hoon Main\n",
      "Mere Yaaraa\n",
      "Deva Deva (From \"Brahmastra\")\n",
      "Khairiyat\n",
      "Jalebi|Arijit Singh|Shreya Ghoshal|Rhea & Varun|Javed - Mohsin\n",
      "Pal Pal Dil Ke Paas- Title Track\n",
      "Humdard\n",
      "Phir Bhi Tumko Chaahunga\n",
      "Kabhi Jo Baadal Barse (From \"Jackpot)\n",
      "Pachtaoge\n",
      "Naina\n",
      "ADHM|Ranbir Kapoor, Anushka|Arijit Singh|Pritam|Karan Johar\n",
      "Ve Maahi (Kesari)\n",
      "Bolna\n",
      "Mast Magan\n",
      "Roke Na Ruke Naina (From \"Badrinath Ki Dulhania\")\n",
      "Itni Si Baat Hain\n",
      "Ik Vaari Aa (From \"Raabta\")\n",
      "Enna Sona Video|OK Jaanu|Arijit Singh|Shraddha Kapoor|Aditya Roy\n",
      "{'O Maahi': ['Arijit Singh'], 'SATRANGA': ['Arijit Singh'], 'Tere Sang Ishq Hua': ['Arijit Singh'], 'Chaleya': ['Arijit Singh'], 'Lutt Putt Gaya (From \"Dunki\")': ['Pritam'], 'Dil Jhoom - Vishal Mishra (From \"Gadar 2\")': ['Arijit Singh', 'Mithoon'], 'Phir Aur Kya Chahiye': ['Arijit Singh'], 'Tum Kya Mile': ['Arijit Singh'], 'Kesariya (From “Brahmastra”)': ['Arijit Singh'], 'What Jhumka?': ['Arijit Singh'], 'Leke Prabhu Ka Naam': ['Arijit Singh', 'Nikhita Gandhi'], 'Kabira': ['Amitabh Bhattacharya', 'Rekha Bhardwaj', 'Tochi Raina'], 'O Bedardeya (Full Video) Tu Jhoothi Main Makkaar | Ranbir, Shraddha | Pritam,Arijit Singh, Amitabh B': ['Arijit Singh'], 'Apna Bana Le': ['Arijit Singh', 'Sachin-Jigar'], 'Zaalima': ['Arijit Singh', 'Harshdeep Kaur'], 'Tere Pyaar Mein': ['Arijit Singh'], 'Jhoome Jo Pathaan': ['Vishal - Shekhar', 'Arijit Singh', 'Sukriti Kakkar', 'Vishal Dadlani'], 'Hawayein': ['Arijit Singh'], 'Suno- Na Sangemarmar (From \"Youngistaan\")': ['Arijit Singh'], 'Ilahi': ['Arijit Singh'], 'Pyaar Hota Kayi Baar Hai (Jhankar Beat)[Remix By Moodyboy]': ['Charan'], 'Shayad': ['Arijit Singh'], 'Ve Kamleya': ['Arijit Singh'], 'Citylights | Arijit Singh | Rajkummar Rao, Patralekha | Jeet ...': ['Arijit Singh', 'Jeet Gannguli'], 'Kalank (Duet)': ['Shilpa Rao'], 'Humpty Sharma Ki Dulhania|Varun, Alia|Arijit Singh, Shreya Gh...': ['Sharib Toshi', 'Shreya Ghoshal', 'Jawad Ahmad', 'Arijit Singh'], 'Bekhayali (From \"Kabir Singh\")': ['Sachet Tandon'], 'Soch Na Sake': ['Arijit Singh'], 'Rait Zara Si': ['Arijit Singh'], 'Hamari Adhuri Kahani (Title Track) [From \"Hamari Adhuri Kahani\"]': ['Arijit Singh', 'Jeet Gannguli'], 'Ranbir, Anushka, Aishwarya|Arijit|Pritam': ['Arijit Singh', 'Pritam'], 'Tera Yaar Hoon Main': ['Arijit Singh'], 'Mere Yaaraa': ['Arijit Singh'], 'Deva Deva (From \"Brahmastra\")': ['Amitabh Bhattacharya', 'Jonita Gandhi', 'Arijit Singh', 'Pritam'], 'Khairiyat': ['Arijit Singh'], 'Jalebi|Arijit Singh|Shreya Ghoshal|Rhea & Varun|Javed - Mohsin': ['Kunaal Vermaa', 'Shreya Ghoshal', 'Prashant Ingole', 'Arijit Singh'], 'Pal Pal Dil Ke Paas- Title Track': ['Parampara Thakur', 'Arijit Singh'], 'Humdard': ['Arijit Singh'], 'Phir Bhi Tumko Chaahunga': ['Mithoon', 'Shashaa Tirupati', 'Arijit Singh'], 'Kabhi Jo Baadal Barse (From \"Jackpot)': ['Arijit Singh'], 'Pachtaoge': ['Arijit Singh'], 'Naina': ['Arijit Singh', 'Pritam'], 'ADHM|Ranbir Kapoor, Anushka|Arijit Singh|Pritam|Karan Johar': ['Arijit Singh'], 'Ve Maahi (Kesari)': ['Asees Kaur'], 'Bolna': ['Arijit Singh', 'Asees Kaur'], 'Mast Magan': ['Amitabh Bhattacharya'], 'Roke Na Ruke Naina (From \"Badrinath Ki Dulhania\")': ['Arijit Singh'], 'Itni Si Baat Hain': ['Antara Mitra'], 'Ik Vaari Aa (From \"Raabta\")': ['Arijit Singh'], 'Enna Sona Video|OK Jaanu|Arijit Singh|Shraddha Kapoor|Aditya Roy': ['A.R. Rahman', 'Arijit Singh']}\n",
      "{\"O Maahi\": [\"Arijit Singh\"], \"SATRANGA\": [\"Arijit Singh\"], \"Tere Sang Ishq Hua\": [\"Arijit Singh\"], \"Chaleya\": [\"Arijit Singh\"], \"Lutt Putt Gaya (From \\\"Dunki\\\")\": [\"Pritam\"], \"Dil Jhoom - Vishal Mishra (From \\\"Gadar 2\\\")\": [\"Arijit Singh\", \"Mithoon\"], \"Phir Aur Kya Chahiye\": [\"Arijit Singh\"], \"Tum Kya Mile\": [\"Arijit Singh\"], \"Kesariya (From \\u201cBrahmastra\\u201d)\": [\"Arijit Singh\"], \"What Jhumka?\": [\"Arijit Singh\"], \"Leke Prabhu Ka Naam\": [\"Arijit Singh\", \"Nikhita Gandhi\"], \"Kabira\": [\"Amitabh Bhattacharya\", \"Rekha Bhardwaj\", \"Tochi Raina\"], \"O Bedardeya (Full Video) Tu Jhoothi Main Makkaar | Ranbir, Shraddha | Pritam,Arijit Singh, Amitabh B\": [\"Arijit Singh\"], \"Apna Bana Le\": [\"Arijit Singh\", \"Sachin-Jigar\"], \"Zaalima\": [\"Arijit Singh\", \"Harshdeep Kaur\"], \"Tere Pyaar Mein\": [\"Arijit Singh\"], \"Jhoome Jo Pathaan\": [\"Vishal - Shekhar\", \"Arijit Singh\", \"Sukriti Kakkar\", \"Vishal Dadlani\"], \"Hawayein\": [\"Arijit Singh\"], \"Suno- Na Sangemarmar (From \\\"Youngistaan\\\")\": [\"Arijit Singh\"], \"Ilahi\": [\"Arijit Singh\"], \"Pyaar Hota Kayi Baar Hai (Jhankar Beat)[Remix By Moodyboy]\": [\"Charan\"], \"Shayad\": [\"Arijit Singh\"], \"Ve Kamleya\": [\"Arijit Singh\"], \"Citylights | Arijit Singh | Rajkummar Rao, Patralekha | Jeet ...\": [\"Arijit Singh\", \"Jeet Gannguli\"], \"Kalank (Duet)\": [\"Shilpa Rao\"], \"Humpty Sharma Ki Dulhania|Varun, Alia|Arijit Singh, Shreya Gh...\": [\"Sharib Toshi\", \"Shreya Ghoshal\", \"Jawad Ahmad\", \"Arijit Singh\"], \"Bekhayali (From \\\"Kabir Singh\\\")\": [\"Sachet Tandon\"], \"Soch Na Sake\": [\"Arijit Singh\"], \"Rait Zara Si\": [\"Arijit Singh\"], \"Hamari Adhuri Kahani (Title Track) [From \\\"Hamari Adhuri Kahani\\\"]\": [\"Arijit Singh\", \"Jeet Gannguli\"], \"Ranbir, Anushka, Aishwarya|Arijit|Pritam\": [\"Arijit Singh\", \"Pritam\"], \"Tera Yaar Hoon Main\": [\"Arijit Singh\"], \"Mere Yaaraa\": [\"Arijit Singh\"], \"Deva Deva (From \\\"Brahmastra\\\")\": [\"Amitabh Bhattacharya\", \"Jonita Gandhi\", \"Arijit Singh\", \"Pritam\"], \"Khairiyat\": [\"Arijit Singh\"], \"Jalebi|Arijit Singh|Shreya Ghoshal|Rhea & Varun|Javed - Mohsin\": [\"Kunaal Vermaa\", \"Shreya Ghoshal\", \"Prashant Ingole\", \"Arijit Singh\"], \"Pal Pal Dil Ke Paas- Title Track\": [\"Parampara Thakur\", \"Arijit Singh\"], \"Humdard\": [\"Arijit Singh\"], \"Phir Bhi Tumko Chaahunga\": [\"Mithoon\", \"Shashaa Tirupati\", \"Arijit Singh\"], \"Kabhi Jo Baadal Barse (From \\\"Jackpot)\": [\"Arijit Singh\"], \"Pachtaoge\": [\"Arijit Singh\"], \"Naina\": [\"Arijit Singh\", \"Pritam\"], \"ADHM|Ranbir Kapoor, Anushka|Arijit Singh|Pritam|Karan Johar\": [\"Arijit Singh\"], \"Ve Maahi (Kesari)\": [\"Asees Kaur\"], \"Bolna\": [\"Arijit Singh\", \"Asees Kaur\"], \"Mast Magan\": [\"Amitabh Bhattacharya\"], \"Roke Na Ruke Naina (From \\\"Badrinath Ki Dulhania\\\")\": [\"Arijit Singh\"], \"Itni Si Baat Hain\": [\"Antara Mitra\"], \"Ik Vaari Aa (From \\\"Raabta\\\")\": [\"Arijit Singh\"], \"Enna Sona Video|OK Jaanu|Arijit Singh|Shraddha Kapoor|Aditya Roy\": [\"A.R. Rahman\", \"Arijit Singh\"]}\n"
     ]
    }
   ],
   "source": [
    "def ParseYTMusicPlaylist(playListName):\n",
    "    results = ytmusic.search(playListName, filter='playlists')\n",
    "    if(len(results)==0 or playListName != results[0]['title']):\n",
    "        print(\"No Matching Playlist Found\")\n",
    "        return -1\n",
    "    #playlist = results[0]\n",
    "    playlist = ytmusic.get_playlist(results[0]['browseId'])\n",
    "    #print(playlist)\n",
    "    totalSongs = int(results[0]['itemCount']);\n",
    "    print(totalSongs)\n",
    "    allSongs = playlist['tracks']\n",
    "    #print(allSongs)\n",
    "    jsonDict = dict()\n",
    "    \n",
    "    for song in allSongs:\n",
    "        print(song['title'])\n",
    "        artistList = list()\n",
    "        for artist in song['artists']:\n",
    "            #print(artist['name'])\n",
    "            artistList.append(artist['name'])\n",
    "        #print()\n",
    "        if(song['title'] not in jsonDict):\n",
    "            jsonDict[song['title']] = artistList\n",
    "    print(jsonDict)\n",
    "    \n",
    "    #json_string = json.dump(jsonDict)\n",
    "    filePath = '/Users/rushikeshsandeepborse/Desktop/Music_Playlist_Project/sample.json'\n",
    "    with open(filePath, 'w+') as file:\n",
    "        json_string = json.dumps(jsonDict)\n",
    "        print(json_string)\n",
    "        file.write(json_string)\n",
    "    return filePath\n",
    "\n",
    "ParseYTMusicPlaylist('Presenting Arijit Singh')"
   ]
  },
  {
   "cell_type": "code",
   "execution_count": null,
   "id": "19bc0922",
   "metadata": {},
   "outputs": [],
   "source": [
    "def addToSpotify(filepath):\n",
    "    clientId = 'a630a38ec0384405b339c71b3167341f'\n",
    "    clientSecret = '654968af07fb488ba13fed11a7fa1dba'"
   ]
  }
 ],
 "metadata": {
  "kernelspec": {
   "display_name": "Python 3 (ipykernel)",
   "language": "python",
   "name": "python3"
  },
  "language_info": {
   "codemirror_mode": {
    "name": "ipython",
    "version": 3
   },
   "file_extension": ".py",
   "mimetype": "text/x-python",
   "name": "python",
   "nbconvert_exporter": "python",
   "pygments_lexer": "ipython3",
   "version": "3.9.13"
  }
 },
 "nbformat": 4,
 "nbformat_minor": 5
}
